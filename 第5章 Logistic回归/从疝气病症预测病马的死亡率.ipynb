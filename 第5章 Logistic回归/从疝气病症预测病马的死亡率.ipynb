{
 "cells": [
  {
   "cell_type": "markdown",
   "metadata": {},
   "source": [
    "# 从疝气病症预测病马的死亡率"
   ]
  },
  {
   "cell_type": "markdown",
   "metadata": {},
   "source": [
    "**说明:**\n",
    "\n",
    "将 `horseColicTraining.txt` 和 `horseColicTest.txt` 放在当前目录下。"
   ]
  },
  {
   "cell_type": "code",
   "execution_count": 8,
   "metadata": {},
   "outputs": [],
   "source": [
    "import numpy as np\n",
    "import random"
   ]
  },
  {
   "cell_type": "code",
   "execution_count": 2,
   "metadata": {},
   "outputs": [],
   "source": [
    "def classify(inX,weights):\n",
    "    prob = sigmoid(sum(inX*weights))\n",
    "    return 1 if prob>0.5 else 0"
   ]
  },
  {
   "cell_type": "code",
   "execution_count": 3,
   "metadata": {},
   "outputs": [],
   "source": [
    "def colicTest():\n",
    "    frTrain = open('horseColicTraining.txt')\n",
    "    frTest = open('horseColicTest.txt')\n",
    "    trainingSet = []\n",
    "    trainingLabels = []\n",
    "    for line in frTrain.readlines():\n",
    "        currLine = line.strip().split('\\t')\n",
    "        lineArr = []\n",
    "        for i in range(21):\n",
    "            lineArr.append(float(currLine[i]))\n",
    "        trainingSet.append(lineArr)\n",
    "        trainingLabels.append(float(currLine[21]))\n",
    "    trainWeights = stocGradAscent1(np.array(trainingSet),trainingLabels,500)\n",
    "    errorCount = 0\n",
    "    numTestVec = 0\n",
    "    for line in frTest.readlines():\n",
    "        numTestVec += 1\n",
    "        currLine = line.strip().split('\\t')\n",
    "        lineArr = []\n",
    "        for i in range(21):\n",
    "            lineArr.append(float(currLine[i]))\n",
    "        if int(classify(np.array(lineArr),trainWeights))!=int(currLine[21]):\n",
    "            errorCount+=1\n",
    "    errorRate = float(errorCount)/numTestVec\n",
    "    print('the error rate is %f'%errorRate)\n",
    "    return errorRate\n",
    "\n"
   ]
  },
  {
   "cell_type": "code",
   "execution_count": 5,
   "metadata": {},
   "outputs": [],
   "source": [
    "def multiTest():\n",
    "    numTest = 10\n",
    "    errorSum = 0\n",
    "    for k in range(numTest):\n",
    "        errorSum += colicTest()\n",
    "    print('after %d iteration,the average error rate is %f'%(numTest,errorSum/numTest))"
   ]
  },
  {
   "cell_type": "code",
   "execution_count": 11,
   "metadata": {},
   "outputs": [],
   "source": [
    "def sigmoid(inX):\n",
    "    return 1.0/(1+np.exp(-inX))\n",
    "\n",
    "def stocGradAscent0(dataM,classL):\n",
    "    m,n = np.shape(dataM)\n",
    "    alpha = 0.01\n",
    "    weights = np.ones(n)\n",
    "    for i in range(m):\n",
    "        h = sigmoid(sum(dataM[i]*weights))\n",
    "        error = classL[i]-h\n",
    "        weights = weights + alpha*error*dataM[i]\n",
    "    return weights\n",
    "\n",
    "def stocGradAscent1(dataM,classL,numIter):\n",
    "    m,n = np.shape(dataM)\n",
    "    weights = np.ones(n)\n",
    "    for j in range(numIter):\n",
    "        dataIndex = list(range(m))\n",
    "        for i in range(m):\n",
    "            alpha = 4/(1+i+j)+0.01\n",
    "            randIndex = int(np.random.uniform(0,len(dataIndex)))\n",
    "            h = sigmoid(sum(dataM[randIndex]*weights))\n",
    "            error = classL[randIndex] - h\n",
    "            weights += alpha*error*dataM[randIndex]\n",
    "            del(dataIndex[randIndex])\n",
    "    return weights"
   ]
  },
  {
   "cell_type": "code",
   "execution_count": 12,
   "metadata": {},
   "outputs": [
    {
     "name": "stderr",
     "output_type": "stream",
     "text": [
      "C:\\Users\\Ni\\Anaconda3\\envs\\python3\\lib\\site-packages\\ipykernel_launcher.py:2: RuntimeWarning: overflow encountered in exp\n",
      "  \n"
     ]
    },
    {
     "name": "stdout",
     "output_type": "stream",
     "text": [
      "the error rate is 0.432836\n",
      "the error rate is 0.358209\n",
      "the error rate is 0.313433\n",
      "the error rate is 0.373134\n",
      "the error rate is 0.373134\n",
      "the error rate is 0.358209\n",
      "the error rate is 0.283582\n",
      "the error rate is 0.417910\n",
      "the error rate is 0.432836\n",
      "the error rate is 0.417910\n",
      "after 10 iteration,the average error rate is 0.376119\n"
     ]
    }
   ],
   "source": [
    "multiTest()"
   ]
  },
  {
   "cell_type": "code",
   "execution_count": null,
   "metadata": {},
   "outputs": [],
   "source": []
  }
 ],
 "metadata": {
  "kernelspec": {
   "display_name": "Python 3",
   "language": "python",
   "name": "python3"
  },
  "language_info": {
   "codemirror_mode": {
    "name": "ipython",
    "version": 3
   },
   "file_extension": ".py",
   "mimetype": "text/x-python",
   "name": "python",
   "nbconvert_exporter": "python",
   "pygments_lexer": "ipython3",
   "version": "3.7.0"
  }
 },
 "nbformat": 4,
 "nbformat_minor": 2
}
